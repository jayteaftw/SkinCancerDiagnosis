{
  "nbformat": 4,
  "nbformat_minor": 0,
  "metadata": {
    "colab": {
      "name": "Testing_MvB.ipynb",
      "provenance": []
    },
    "kernelspec": {
      "name": "python3",
      "display_name": "Python 3"
    },
    "language_info": {
      "name": "python"
    }
  },
  "cells": [
    {
      "cell_type": "code",
      "metadata": {
        "id": "57XcuaZceIJN"
      },
      "source": [
        "import matplotlib.pyplot as plt\n",
        "import numpy as np\n",
        "import tensorflow as tf\n",
        "\n",
        "from tensorflow import keras\n",
        "from tensorflow.keras import layers\n",
        "from tensorflow.keras.models import Sequential"
      ],
      "execution_count": null,
      "outputs": []
    },
    {
      "cell_type": "code",
      "metadata": {
        "id": "0q-PF-6qeaqZ"
      },
      "source": [
        "path = ''\n",
        "new_model = tf.keras.models.load_model(path)\n",
        "IMAGE_SHAPE = (224, 224)\n",
        "batch_size = 32\n",
        "TESTING_DATA_DIR = str(data_root+\"test\")\n",
        "testing_ds = tf.keras.utils.image_dataset_from_directory(\n",
        "  TESTING_DATA_DIR,\n",
        "  subset=None,\n",
        "  shuffle=True,\n",
        "  image_size=IMAGE_SHAPE,\n",
        "  batch_size=batch_size)"
      ],
      "execution_count": null,
      "outputs": []
    },
    {
      "cell_type": "code",
      "metadata": {
        "id": "VGkW7VcSeiBO"
      },
      "source": [
        "final_loss, final_accuracy = new_model.evaluate(testing_ds)\n",
        "print(\"Final loss: {:.2f}\".format(final_loss))\n",
        "print(\"Final accuracy: {:.2f}%\".format(final_accuracy * 100))"
      ],
      "execution_count": null,
      "outputs": []
    }
  ]
}