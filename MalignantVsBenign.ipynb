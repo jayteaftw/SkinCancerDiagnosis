{
  "nbformat": 4,
  "nbformat_minor": 0,
  "metadata": {
    "accelerator": "GPU",
    "colab": {
      "name": "MalignantVsBenign.ipynb",
      "provenance": []
    },
    "kernelspec": {
      "display_name": "Python 3",
      "name": "python3"
    },
    "language_info": {
      "name": "python"
    }
  },
  "cells": [
    {
      "cell_type": "code",
      "metadata": {
        "id": "RDoUc6HclxlW"
      },
      "source": [
        "from google.colab import drive\n",
        "drive.mount('/content/drive')"
      ],
      "execution_count": null,
      "outputs": []
    },
    {
      "cell_type": "code",
      "metadata": {
        "id": "i38KIqrWl1IK"
      },
      "source": [
        "import matplotlib.pyplot as plt\n",
        "import numpy as np\n",
        "import tensorflow as tf\n",
        "\n",
        "from tensorflow import keras\n",
        "from tensorflow.keras import layers\n",
        "from tensorflow.keras.models import Sequential"
      ],
      "execution_count": null,
      "outputs": []
    },
    {
      "cell_type": "code",
      "metadata": {
        "id": "G-lIk5tOl-jD"
      },
      "source": [
        "#Intliaze data root\n",
        "data_root = (\"/content/drive/MyDrive/MalignantVsBenign/data/\")"
      ],
      "execution_count": null,
      "outputs": []
    },
    {
      "cell_type": "code",
      "metadata": {
        "id": "WtdxHzq3mEjn"
      },
      "source": [
        "IMAGE_SHAPE = (224, 224)\n",
        "TRAINING_DATA_DIR = str(data_root+\"train\")\n",
        "batch_size = 32"
      ],
      "execution_count": null,
      "outputs": []
    },
    {
      "cell_type": "code",
      "metadata": {
        "colab": {
          "base_uri": "https://localhost:8080/"
        },
        "id": "6IT9FI1fmbV3",
        "outputId": "5424e8f4-dcd0-458e-a6e4-9ff988eca8d1"
      },
      "source": [
        "#Intialize Training directories\n",
        "train_ds = tf.keras.utils.image_dataset_from_directory(\n",
        "  TRAINING_DATA_DIR,\n",
        "  validation_split=0.2,\n",
        "  subset=\"training\",\n",
        "  seed=123,\n",
        "  image_size=IMAGE_SHAPE,\n",
        "  shuffle=True,\n",
        "  batch_size=batch_size)\n",
        "\n",
        "val_ds = tf.keras.utils.image_dataset_from_directory(\n",
        "  TRAINING_DATA_DIR,\n",
        "  validation_split=0.2,\n",
        "  subset=\"validation\",\n",
        "  seed=123,\n",
        "  image_size=IMAGE_SHAPE,\n",
        "  batch_size=batch_size)\n"
      ],
      "execution_count": null,
      "outputs": [
        {
          "output_type": "stream",
          "name": "stdout",
          "text": [
            "Found 2637 files belonging to 2 classes.\n",
            "Using 2110 files for training.\n",
            "Found 2637 files belonging to 2 classes.\n",
            "Using 527 files for validation.\n"
          ]
        }
      ]
    },
    {
      "cell_type": "code",
      "metadata": {
        "id": "MD0adjZz1IvA"
      },
      "source": [
        "  "
      ],
      "execution_count": null,
      "outputs": []
    },
    {
      "cell_type": "code",
      "metadata": {
        "colab": {
          "base_uri": "https://localhost:8080/"
        },
        "id": "tvyFluYboqTH",
        "outputId": "3ea3265b-1ec5-4ecc-dee3-7fef53501da6"
      },
      "source": [
        "train_ds.class_names"
      ],
      "execution_count": null,
      "outputs": [
        {
          "output_type": "execute_result",
          "data": {
            "text/plain": [
              "['benign', 'malignant']"
            ]
          },
          "metadata": {},
          "execution_count": 8
        }
      ]
    },
    {
      "cell_type": "code",
      "metadata": {
        "id": "AeSdcToBsLoY"
      },
      "source": [
        "AUTOTUNE = tf.data.AUTOTUNE\n",
        "train_ds = train_ds.cache().shuffle(1000).prefetch(buffer_size=AUTOTUNE)\n",
        "val_ds = val_ds.cache().prefetch(buffer_size=AUTOTUNE)"
      ],
      "execution_count": null,
      "outputs": []
    },
    {
      "cell_type": "code",
      "metadata": {
        "id": "1uXLtug7sipp"
      },
      "source": [
        "#normalization_layer = layers.Rescaling(1./255)"
      ],
      "execution_count": null,
      "outputs": []
    },
    {
      "cell_type": "code",
      "metadata": {
        "id": "umt91vmPxXPw"
      },
      "source": [
        "data_agumentation = keras.Sequential(\n",
        "    [\n",
        "      layers.RandomFlip(\"horizontal\",\n",
        "                          input_shape=(IMAGE_SHAPE[0],\n",
        "                                       IMAGE_SHAPE[0],3\n",
        "                                       )),\n",
        "     layers.RandomRotation(0.1),\n",
        "     layers.RandomZoom(0.1),\n",
        "      \n",
        "    ]\n",
        "\n",
        ")"
      ],
      "execution_count": null,
      "outputs": []
    },
    {
      "cell_type": "code",
      "metadata": {
        "id": "j2nNvol-slen"
      },
      "source": [
        "num_classes = 2\n",
        "\n",
        "model = Sequential([\n",
        "      data_agumentation,\n",
        "      layers.Rescaling(1./255, input_shape=(IMAGE_SHAPE[0],IMAGE_SHAPE[0],3)),\n",
        "      layers.Conv2D(16, 3, padding='same', activation='relu'),\n",
        "      layers.MaxPool2D(),\n",
        "      layers.Conv2D(32, 3, padding='same', activation='relu'),\n",
        "      layers.MaxPool2D(),\n",
        "      layers.Conv2D(64, 3, padding='same', activation='relu'),\n",
        "      layers.MaxPool2D(),\n",
        "      layers.Dropout(0.2),\n",
        "      layers.Flatten(),\n",
        "      layers.Dense(256, activation='relu'),\n",
        "      layers.Dense(num_classes)\n",
        "\n",
        "])"
      ],
      "execution_count": null,
      "outputs": []
    },
    {
      "cell_type": "code",
      "metadata": {
        "id": "0Y_4_h8jfDf7"
      },
      "source": [
        "\n",
        "#Alex Net\n",
        "num_classes = 2\n",
        "model = keras.models.Sequential([\n",
        "    data_agumentation,\n",
        "    layers.Rescaling(1./255, input_shape=(IMAGE_SHAPE[0],IMAGE_SHAPE[0],3)),\n",
        "    keras.layers.Conv2D(filters=96, kernel_size=(11,11), strides=(4,4), activation='relu', input_shape=(IMAGE_SHAPE[0],IMAGE_SHAPE[0],3)),\n",
        "    keras.layers.BatchNormalization(),\n",
        "    keras.layers.MaxPool2D(pool_size=(3,3), strides=(2,2)),\n",
        "    keras.layers.Conv2D(filters=256, kernel_size=(5,5), strides=(1,1), activation='relu', padding=\"same\"),\n",
        "    keras.layers.BatchNormalization(),\n",
        "    keras.layers.MaxPool2D(pool_size=(3,3), strides=(2,2)),\n",
        "    keras.layers.Conv2D(filters=384, kernel_size=(3,3), strides=(1,1), activation='relu', padding=\"same\"),\n",
        "    keras.layers.BatchNormalization(),\n",
        "    keras.layers.Conv2D(filters=384, kernel_size=(3,3), strides=(1,1), activation='relu', padding=\"same\"),\n",
        "    keras.layers.BatchNormalization(),\n",
        "    keras.layers.Conv2D(filters=256, kernel_size=(3,3), strides=(1,1), activation='relu', padding=\"same\"),\n",
        "    keras.layers.BatchNormalization(),\n",
        "    keras.layers.MaxPool2D(pool_size=(3,3), strides=(2,2)),\n",
        "    keras.layers.Flatten(),\n",
        "    keras.layers.Dense(4096, activation='relu'),\n",
        "    keras.layers.Dropout(0.5),\n",
        "    keras.layers.Dense(4096, activation='relu'),\n",
        "    keras.layers.Dropout(0.5),\n",
        "    keras.layers.Dense(10, activation='softmax')\n",
        "])\n"
      ],
      "execution_count": null,
      "outputs": []
    },
    {
      "cell_type": "code",
      "metadata": {
        "id": "I2yS4U6ztm2W"
      },
      "source": [
        "#Compile the model\n",
        "model.compile(optimizer='adam',\n",
        "              loss=tf.keras.losses.SparseCategoricalCrossentropy(),#from_logits=True),\n",
        "              metrics=['accuracy']\n",
        "              )"
      ],
      "execution_count": null,
      "outputs": []
    },
    {
      "cell_type": "code",
      "metadata": {
        "id": "OoRx6iJEU4oT"
      },
      "source": [
        "optimizer = tf.keras.optimizers.Adam(learning_rate=1e-4)\n",
        "model.compile(\n",
        " optimizer=optimizer,\n",
        " loss=tf.keras.losses.SparseCategoricalCrossentropy(),\n",
        " metrics=['acc'])"
      ],
      "execution_count": null,
      "outputs": []
    },
    {
      "cell_type": "code",
      "metadata": {
        "id": "IChSybouuJpI"
      },
      "source": [
        "model.summary()"
      ],
      "execution_count": null,
      "outputs": []
    },
    {
      "cell_type": "code",
      "metadata": {
        "colab": {
          "base_uri": "https://localhost:8080/"
        },
        "id": "MDUCdWVcucCI",
        "outputId": "a77ce18d-05cd-40fd-8f92-721c35621044"
      },
      "source": [
        "epochs=200\n",
        "history = model.fit(\n",
        "    train_ds,\n",
        "    validation_data=val_ds,\n",
        "    epochs=epochs\n",
        ")"
      ],
      "execution_count": null,
      "outputs": [
        {
          "output_type": "stream",
          "name": "stdout",
          "text": [
            "Epoch 1/200\n",
            "66/66 [==============================] - 9s 108ms/step - loss: 1.4900 - acc: 0.7251 - val_loss: 0.6911 - val_acc: 0.5541\n",
            "Epoch 2/200\n",
            "66/66 [==============================] - 7s 105ms/step - loss: 1.0800 - acc: 0.7540 - val_loss: 0.8082 - val_acc: 0.4459\n",
            "Epoch 3/200\n",
            "66/66 [==============================] - 7s 105ms/step - loss: 0.7558 - acc: 0.7730 - val_loss: 0.6771 - val_acc: 0.5977\n",
            "Epoch 4/200\n",
            "66/66 [==============================] - 7s 104ms/step - loss: 0.6311 - acc: 0.7962 - val_loss: 1.4007 - val_acc: 0.5958\n",
            "Epoch 5/200\n",
            "66/66 [==============================] - 7s 104ms/step - loss: 0.6263 - acc: 0.7858 - val_loss: 0.4446 - val_acc: 0.7742\n",
            "Epoch 6/200\n",
            "66/66 [==============================] - 7s 104ms/step - loss: 0.5176 - acc: 0.7991 - val_loss: 0.4330 - val_acc: 0.7932\n",
            "Epoch 7/200\n",
            "66/66 [==============================] - 7s 104ms/step - loss: 0.4913 - acc: 0.8043 - val_loss: 0.6145 - val_acc: 0.7856\n",
            "Epoch 8/200\n",
            "66/66 [==============================] - 7s 104ms/step - loss: 0.4477 - acc: 0.8104 - val_loss: 1.4576 - val_acc: 0.6546\n",
            "Epoch 9/200\n",
            "66/66 [==============================] - 7s 103ms/step - loss: 0.4280 - acc: 0.8218 - val_loss: 0.4761 - val_acc: 0.8046\n",
            "Epoch 10/200\n",
            "66/66 [==============================] - 7s 104ms/step - loss: 0.3769 - acc: 0.8351 - val_loss: 0.7997 - val_acc: 0.7590\n",
            "Epoch 11/200\n",
            "66/66 [==============================] - 7s 104ms/step - loss: 0.3651 - acc: 0.8351 - val_loss: 0.8507 - val_acc: 0.7059\n",
            "Epoch 12/200\n",
            "66/66 [==============================] - 7s 103ms/step - loss: 0.3991 - acc: 0.8227 - val_loss: 1.3560 - val_acc: 0.6774\n",
            "Epoch 13/200\n",
            "66/66 [==============================] - 7s 104ms/step - loss: 0.3608 - acc: 0.8346 - val_loss: 0.4038 - val_acc: 0.8254\n",
            "Epoch 14/200\n",
            "66/66 [==============================] - 7s 104ms/step - loss: 0.3628 - acc: 0.8351 - val_loss: 0.4006 - val_acc: 0.8292\n",
            "Epoch 15/200\n",
            "66/66 [==============================] - 7s 104ms/step - loss: 0.3087 - acc: 0.8564 - val_loss: 0.4047 - val_acc: 0.8216\n",
            "Epoch 16/200\n",
            "66/66 [==============================] - 7s 103ms/step - loss: 0.3091 - acc: 0.8521 - val_loss: 0.8948 - val_acc: 0.7211\n",
            "Epoch 17/200\n",
            "66/66 [==============================] - 7s 104ms/step - loss: 0.3157 - acc: 0.8555 - val_loss: 0.7795 - val_acc: 0.7287\n",
            "Epoch 18/200\n",
            "66/66 [==============================] - 7s 103ms/step - loss: 0.3138 - acc: 0.8654 - val_loss: 1.3912 - val_acc: 0.5579\n",
            "Epoch 19/200\n",
            "66/66 [==============================] - 7s 103ms/step - loss: 0.2968 - acc: 0.8611 - val_loss: 2.0238 - val_acc: 0.5256\n",
            "Epoch 20/200\n",
            "66/66 [==============================] - 7s 104ms/step - loss: 0.3302 - acc: 0.8540 - val_loss: 0.3579 - val_acc: 0.8159\n",
            "Epoch 21/200\n",
            "66/66 [==============================] - 7s 103ms/step - loss: 0.3253 - acc: 0.8555 - val_loss: 1.3038 - val_acc: 0.7097\n",
            "Epoch 22/200\n",
            "66/66 [==============================] - 7s 104ms/step - loss: 0.3102 - acc: 0.8555 - val_loss: 0.4071 - val_acc: 0.8311\n",
            "Epoch 23/200\n",
            "66/66 [==============================] - 7s 104ms/step - loss: 0.2824 - acc: 0.8711 - val_loss: 1.8114 - val_acc: 0.6888\n",
            "Epoch 24/200\n",
            "66/66 [==============================] - 7s 103ms/step - loss: 0.2547 - acc: 0.8877 - val_loss: 0.5859 - val_acc: 0.8083\n",
            "Epoch 25/200\n",
            "66/66 [==============================] - 7s 103ms/step - loss: 0.2785 - acc: 0.8739 - val_loss: 0.3279 - val_acc: 0.8520\n",
            "Epoch 26/200\n",
            "66/66 [==============================] - 7s 104ms/step - loss: 0.2420 - acc: 0.8801 - val_loss: 0.3797 - val_acc: 0.8273\n",
            "Epoch 27/200\n",
            "66/66 [==============================] - 7s 104ms/step - loss: 0.2547 - acc: 0.8910 - val_loss: 1.3022 - val_acc: 0.7078\n",
            "Epoch 28/200\n",
            "66/66 [==============================] - 7s 104ms/step - loss: 0.2442 - acc: 0.8834 - val_loss: 1.0735 - val_acc: 0.7362\n",
            "Epoch 29/200\n",
            "66/66 [==============================] - 7s 104ms/step - loss: 0.2433 - acc: 0.8829 - val_loss: 0.5976 - val_acc: 0.7590\n",
            "Epoch 30/200\n",
            "66/66 [==============================] - 7s 104ms/step - loss: 0.2468 - acc: 0.8938 - val_loss: 0.9008 - val_acc: 0.7154\n",
            "Epoch 31/200\n",
            "66/66 [==============================] - 7s 103ms/step - loss: 0.2351 - acc: 0.8938 - val_loss: 0.6076 - val_acc: 0.7799\n",
            "Epoch 32/200\n",
            "66/66 [==============================] - 7s 104ms/step - loss: 0.2470 - acc: 0.8839 - val_loss: 0.4208 - val_acc: 0.8140\n",
            "Epoch 33/200\n",
            "66/66 [==============================] - 7s 103ms/step - loss: 0.2319 - acc: 0.8948 - val_loss: 0.3680 - val_acc: 0.8008\n",
            "Epoch 34/200\n",
            "66/66 [==============================] - 7s 104ms/step - loss: 0.2065 - acc: 0.9085 - val_loss: 0.5012 - val_acc: 0.8444\n",
            "Epoch 35/200\n",
            "66/66 [==============================] - 7s 104ms/step - loss: 0.2347 - acc: 0.8929 - val_loss: 0.5930 - val_acc: 0.8140\n",
            "Epoch 36/200\n",
            "66/66 [==============================] - 7s 103ms/step - loss: 0.2210 - acc: 0.9062 - val_loss: 0.5191 - val_acc: 0.8159\n",
            "Epoch 37/200\n",
            "66/66 [==============================] - 7s 104ms/step - loss: 0.2053 - acc: 0.8986 - val_loss: 0.3862 - val_acc: 0.8577\n",
            "Epoch 38/200\n",
            "66/66 [==============================] - 7s 104ms/step - loss: 0.2051 - acc: 0.9066 - val_loss: 0.3829 - val_acc: 0.8349\n",
            "Epoch 39/200\n",
            "66/66 [==============================] - 7s 103ms/step - loss: 0.1728 - acc: 0.9218 - val_loss: 0.3910 - val_acc: 0.8615\n",
            "Epoch 40/200\n",
            "66/66 [==============================] - 7s 105ms/step - loss: 0.1781 - acc: 0.9242 - val_loss: 0.4463 - val_acc: 0.8596\n",
            "Epoch 41/200\n",
            "66/66 [==============================] - 7s 104ms/step - loss: 0.1816 - acc: 0.9227 - val_loss: 0.3965 - val_acc: 0.8520\n",
            "Epoch 42/200\n",
            "66/66 [==============================] - 7s 103ms/step - loss: 0.1552 - acc: 0.9294 - val_loss: 0.7339 - val_acc: 0.8140\n",
            "Epoch 43/200\n",
            "66/66 [==============================] - 7s 103ms/step - loss: 0.1893 - acc: 0.9161 - val_loss: 0.7794 - val_acc: 0.7685\n",
            "Epoch 44/200\n",
            "66/66 [==============================] - 7s 103ms/step - loss: 0.1587 - acc: 0.9341 - val_loss: 0.8278 - val_acc: 0.7666\n",
            "Epoch 45/200\n",
            "66/66 [==============================] - 7s 104ms/step - loss: 0.1691 - acc: 0.9190 - val_loss: 0.4273 - val_acc: 0.8387\n",
            "Epoch 46/200\n",
            "66/66 [==============================] - 7s 104ms/step - loss: 0.1808 - acc: 0.9213 - val_loss: 0.5149 - val_acc: 0.8596\n",
            "Epoch 47/200\n",
            "66/66 [==============================] - 7s 104ms/step - loss: 0.1582 - acc: 0.9270 - val_loss: 0.4400 - val_acc: 0.8368\n",
            "Epoch 48/200\n",
            "66/66 [==============================] - 7s 104ms/step - loss: 0.1725 - acc: 0.9256 - val_loss: 2.9691 - val_acc: 0.7040\n",
            "Epoch 49/200\n",
            "66/66 [==============================] - 7s 104ms/step - loss: 0.1927 - acc: 0.9180 - val_loss: 0.6933 - val_acc: 0.8368\n",
            "Epoch 50/200\n",
            "66/66 [==============================] - 7s 104ms/step - loss: 0.1551 - acc: 0.9374 - val_loss: 1.5171 - val_acc: 0.6907\n",
            "Epoch 51/200\n",
            "66/66 [==============================] - 7s 104ms/step - loss: 0.1449 - acc: 0.9412 - val_loss: 0.5580 - val_acc: 0.8368\n",
            "Epoch 52/200\n",
            "66/66 [==============================] - 7s 104ms/step - loss: 0.1394 - acc: 0.9422 - val_loss: 0.7207 - val_acc: 0.8159\n",
            "Epoch 53/200\n",
            "66/66 [==============================] - 7s 104ms/step - loss: 0.3150 - acc: 0.8991 - val_loss: 2.7488 - val_acc: 0.7078\n",
            "Epoch 54/200\n",
            "66/66 [==============================] - 7s 104ms/step - loss: 0.2210 - acc: 0.9014 - val_loss: 0.6197 - val_acc: 0.7116\n",
            "Epoch 55/200\n",
            "66/66 [==============================] - 7s 104ms/step - loss: 0.1787 - acc: 0.9204 - val_loss: 0.4598 - val_acc: 0.8254\n",
            "Epoch 56/200\n",
            "66/66 [==============================] - 7s 104ms/step - loss: 0.2020 - acc: 0.9194 - val_loss: 0.6455 - val_acc: 0.7173\n",
            "Epoch 57/200\n",
            "66/66 [==============================] - 7s 104ms/step - loss: 0.2275 - acc: 0.9057 - val_loss: 0.4018 - val_acc: 0.8027\n",
            "Epoch 58/200\n",
            "66/66 [==============================] - 7s 104ms/step - loss: 0.1419 - acc: 0.9374 - val_loss: 0.4844 - val_acc: 0.8197\n",
            "Epoch 59/200\n",
            "66/66 [==============================] - 7s 104ms/step - loss: 0.1602 - acc: 0.9284 - val_loss: 0.7266 - val_acc: 0.8008\n",
            "Epoch 60/200\n",
            "66/66 [==============================] - 7s 103ms/step - loss: 0.1263 - acc: 0.9469 - val_loss: 0.6707 - val_acc: 0.8027\n",
            "Epoch 61/200\n",
            "66/66 [==============================] - 7s 104ms/step - loss: 0.1140 - acc: 0.9526 - val_loss: 0.6152 - val_acc: 0.8349\n",
            "Epoch 62/200\n",
            "66/66 [==============================] - 7s 103ms/step - loss: 0.1207 - acc: 0.9502 - val_loss: 0.4389 - val_acc: 0.8653\n",
            "Epoch 63/200\n",
            "66/66 [==============================] - 7s 103ms/step - loss: 0.1072 - acc: 0.9545 - val_loss: 0.6423 - val_acc: 0.8065\n",
            "Epoch 64/200\n",
            "66/66 [==============================] - 7s 103ms/step - loss: 0.1190 - acc: 0.9464 - val_loss: 1.5755 - val_acc: 0.8102\n",
            "Epoch 65/200\n",
            "66/66 [==============================] - 7s 104ms/step - loss: 0.1249 - acc: 0.9507 - val_loss: 0.7148 - val_acc: 0.8178\n",
            "Epoch 66/200\n",
            "66/66 [==============================] - 7s 102ms/step - loss: 0.1167 - acc: 0.9464 - val_loss: 0.7647 - val_acc: 0.8254\n",
            "Epoch 67/200\n",
            "66/66 [==============================] - 7s 102ms/step - loss: 0.1015 - acc: 0.9602 - val_loss: 0.5149 - val_acc: 0.8311\n",
            "Epoch 68/200\n",
            "66/66 [==============================] - 7s 105ms/step - loss: 0.0992 - acc: 0.9616 - val_loss: 0.5338 - val_acc: 0.8254\n",
            "Epoch 69/200\n",
            "66/66 [==============================] - 7s 105ms/step - loss: 0.1392 - acc: 0.9450 - val_loss: 0.5320 - val_acc: 0.8273\n",
            "Epoch 70/200\n",
            "66/66 [==============================] - 7s 105ms/step - loss: 0.1292 - acc: 0.9483 - val_loss: 0.4860 - val_acc: 0.8482\n",
            "Epoch 71/200\n",
            "66/66 [==============================] - 7s 107ms/step - loss: 0.1030 - acc: 0.9616 - val_loss: 0.7210 - val_acc: 0.8444\n",
            "Epoch 72/200\n",
            "66/66 [==============================] - 7s 106ms/step - loss: 0.1000 - acc: 0.9588 - val_loss: 0.6540 - val_acc: 0.8254\n",
            "Epoch 73/200\n",
            "66/66 [==============================] - 7s 105ms/step - loss: 0.0997 - acc: 0.9573 - val_loss: 0.4654 - val_acc: 0.8292\n",
            "Epoch 74/200\n",
            "66/66 [==============================] - 7s 106ms/step - loss: 0.1000 - acc: 0.9588 - val_loss: 1.1373 - val_acc: 0.7856\n",
            "Epoch 75/200\n",
            "66/66 [==============================] - 7s 105ms/step - loss: 0.0981 - acc: 0.9635 - val_loss: 2.7400 - val_acc: 0.6831\n",
            "Epoch 76/200\n",
            "66/66 [==============================] - 7s 105ms/step - loss: 0.1006 - acc: 0.9602 - val_loss: 1.4994 - val_acc: 0.7685\n",
            "Epoch 77/200\n",
            "66/66 [==============================] - 7s 105ms/step - loss: 0.0800 - acc: 0.9678 - val_loss: 0.6347 - val_acc: 0.8539\n",
            "Epoch 78/200\n",
            "66/66 [==============================] - 7s 104ms/step - loss: 0.0907 - acc: 0.9635 - val_loss: 0.7234 - val_acc: 0.7609\n",
            "Epoch 79/200\n",
            "66/66 [==============================] - 7s 104ms/step - loss: 0.0934 - acc: 0.9616 - val_loss: 0.8176 - val_acc: 0.8520\n",
            "Epoch 80/200\n",
            "66/66 [==============================] - 7s 105ms/step - loss: 0.0690 - acc: 0.9735 - val_loss: 1.0612 - val_acc: 0.8235\n",
            "Epoch 81/200\n",
            "66/66 [==============================] - 7s 104ms/step - loss: 0.1268 - acc: 0.9545 - val_loss: 0.6392 - val_acc: 0.8710\n",
            "Epoch 82/200\n",
            "66/66 [==============================] - 7s 106ms/step - loss: 0.0996 - acc: 0.9607 - val_loss: 0.8264 - val_acc: 0.7837\n",
            "Epoch 83/200\n",
            "66/66 [==============================] - 7s 105ms/step - loss: 0.1049 - acc: 0.9640 - val_loss: 0.6095 - val_acc: 0.8216\n",
            "Epoch 84/200\n",
            "66/66 [==============================] - 7s 104ms/step - loss: 0.0755 - acc: 0.9706 - val_loss: 0.6360 - val_acc: 0.8482\n",
            "Epoch 85/200\n",
            "66/66 [==============================] - 7s 105ms/step - loss: 0.0622 - acc: 0.9768 - val_loss: 0.6885 - val_acc: 0.8292\n",
            "Epoch 86/200\n",
            "66/66 [==============================] - 7s 105ms/step - loss: 0.0670 - acc: 0.9758 - val_loss: 0.7368 - val_acc: 0.8349\n",
            "Epoch 87/200\n",
            "66/66 [==============================] - 7s 105ms/step - loss: 0.0769 - acc: 0.9701 - val_loss: 2.1103 - val_acc: 0.6034\n",
            "Epoch 88/200\n",
            "66/66 [==============================] - 7s 106ms/step - loss: 0.1192 - acc: 0.9602 - val_loss: 2.0494 - val_acc: 0.6224\n",
            "Epoch 89/200\n",
            "66/66 [==============================] - 7s 104ms/step - loss: 0.0991 - acc: 0.9645 - val_loss: 0.7383 - val_acc: 0.8520\n",
            "Epoch 90/200\n",
            "66/66 [==============================] - 7s 105ms/step - loss: 0.0861 - acc: 0.9730 - val_loss: 0.8855 - val_acc: 0.8406\n",
            "Epoch 91/200\n",
            "66/66 [==============================] - 7s 105ms/step - loss: 0.0807 - acc: 0.9716 - val_loss: 1.2143 - val_acc: 0.7324\n",
            "Epoch 92/200\n",
            "66/66 [==============================] - 7s 104ms/step - loss: 0.0861 - acc: 0.9682 - val_loss: 0.7033 - val_acc: 0.8368\n",
            "Epoch 93/200\n",
            "66/66 [==============================] - 7s 105ms/step - loss: 0.0619 - acc: 0.9735 - val_loss: 0.5938 - val_acc: 0.8406\n",
            "Epoch 94/200\n",
            "66/66 [==============================] - 7s 105ms/step - loss: 0.0671 - acc: 0.9754 - val_loss: 0.6377 - val_acc: 0.8539\n",
            "Epoch 95/200\n",
            "66/66 [==============================] - 7s 105ms/step - loss: 0.0729 - acc: 0.9773 - val_loss: 1.0036 - val_acc: 0.7875\n",
            "Epoch 96/200\n",
            "66/66 [==============================] - 7s 105ms/step - loss: 0.0492 - acc: 0.9825 - val_loss: 0.8710 - val_acc: 0.8539\n",
            "Epoch 97/200\n",
            "66/66 [==============================] - 7s 105ms/step - loss: 0.0627 - acc: 0.9754 - val_loss: 0.7364 - val_acc: 0.8292\n",
            "Epoch 98/200\n",
            "66/66 [==============================] - 7s 105ms/step - loss: 0.0750 - acc: 0.9716 - val_loss: 0.6847 - val_acc: 0.8368\n",
            "Epoch 99/200\n",
            "66/66 [==============================] - 7s 105ms/step - loss: 0.0602 - acc: 0.9763 - val_loss: 1.5061 - val_acc: 0.7571\n",
            "Epoch 100/200\n",
            "66/66 [==============================] - 7s 105ms/step - loss: 0.0433 - acc: 0.9867 - val_loss: 0.8422 - val_acc: 0.8292\n",
            "Epoch 101/200\n",
            "66/66 [==============================] - 7s 106ms/step - loss: 0.0516 - acc: 0.9815 - val_loss: 0.7574 - val_acc: 0.8444\n",
            "Epoch 102/200\n",
            "66/66 [==============================] - 7s 105ms/step - loss: 0.0741 - acc: 0.9730 - val_loss: 0.7712 - val_acc: 0.8235\n",
            "Epoch 103/200\n",
            "66/66 [==============================] - 7s 105ms/step - loss: 0.0919 - acc: 0.9692 - val_loss: 0.5837 - val_acc: 0.8159\n",
            "Epoch 104/200\n",
            "66/66 [==============================] - 7s 104ms/step - loss: 0.0563 - acc: 0.9782 - val_loss: 0.8652 - val_acc: 0.8197\n",
            "Epoch 105/200\n",
            "66/66 [==============================] - 7s 105ms/step - loss: 0.0612 - acc: 0.9791 - val_loss: 0.7995 - val_acc: 0.8349\n",
            "Epoch 106/200\n",
            "66/66 [==============================] - 7s 106ms/step - loss: 0.0988 - acc: 0.9678 - val_loss: 1.0529 - val_acc: 0.7818\n",
            "Epoch 107/200\n",
            "66/66 [==============================] - 7s 105ms/step - loss: 0.1005 - acc: 0.9635 - val_loss: 0.5334 - val_acc: 0.8406\n",
            "Epoch 108/200\n",
            "66/66 [==============================] - 7s 105ms/step - loss: 0.0934 - acc: 0.9701 - val_loss: 0.7452 - val_acc: 0.8216\n",
            "Epoch 109/200\n",
            "66/66 [==============================] - 7s 105ms/step - loss: 0.0983 - acc: 0.9645 - val_loss: 0.5152 - val_acc: 0.8387\n",
            "Epoch 110/200\n",
            "66/66 [==============================] - 7s 105ms/step - loss: 0.1217 - acc: 0.9611 - val_loss: 0.6383 - val_acc: 0.8615\n",
            "Epoch 111/200\n",
            "66/66 [==============================] - 7s 105ms/step - loss: 0.0899 - acc: 0.9711 - val_loss: 2.7308 - val_acc: 0.8065\n",
            "Epoch 112/200\n",
            "66/66 [==============================] - 7s 105ms/step - loss: 0.0698 - acc: 0.9744 - val_loss: 1.6850 - val_acc: 0.7742\n",
            "Epoch 113/200\n",
            "66/66 [==============================] - 7s 105ms/step - loss: 0.0421 - acc: 0.9882 - val_loss: 0.5032 - val_acc: 0.8748\n",
            "Epoch 114/200\n",
            "66/66 [==============================] - 7s 105ms/step - loss: 0.0237 - acc: 0.9915 - val_loss: 0.6994 - val_acc: 0.8596\n",
            "Epoch 115/200\n",
            "66/66 [==============================] - 7s 106ms/step - loss: 0.0348 - acc: 0.9872 - val_loss: 0.8322 - val_acc: 0.8311\n",
            "Epoch 116/200\n",
            "66/66 [==============================] - 7s 105ms/step - loss: 0.0524 - acc: 0.9787 - val_loss: 0.8492 - val_acc: 0.8577\n",
            "Epoch 117/200\n",
            "66/66 [==============================] - 7s 106ms/step - loss: 0.0659 - acc: 0.9796 - val_loss: 0.5851 - val_acc: 0.8596\n",
            "Epoch 118/200\n",
            "66/66 [==============================] - 7s 106ms/step - loss: 0.0247 - acc: 0.9919 - val_loss: 0.8565 - val_acc: 0.8634\n",
            "Epoch 119/200\n",
            "66/66 [==============================] - 7s 106ms/step - loss: 0.0549 - acc: 0.9815 - val_loss: 1.2322 - val_acc: 0.8140\n",
            "Epoch 120/200\n",
            "66/66 [==============================] - 7s 106ms/step - loss: 0.0921 - acc: 0.9739 - val_loss: 2.1369 - val_acc: 0.5901\n",
            "Epoch 121/200\n",
            "66/66 [==============================] - 7s 107ms/step - loss: 0.0874 - acc: 0.9692 - val_loss: 0.7545 - val_acc: 0.8558\n",
            "Epoch 122/200\n",
            "66/66 [==============================] - 7s 106ms/step - loss: 0.0303 - acc: 0.9886 - val_loss: 0.6965 - val_acc: 0.8425\n",
            "Epoch 123/200\n",
            "66/66 [==============================] - 7s 107ms/step - loss: 0.0281 - acc: 0.9900 - val_loss: 0.8309 - val_acc: 0.8368\n",
            "Epoch 124/200\n",
            "66/66 [==============================] - 7s 107ms/step - loss: 0.0252 - acc: 0.9910 - val_loss: 0.8818 - val_acc: 0.8596\n",
            "Epoch 125/200\n",
            "66/66 [==============================] - 7s 106ms/step - loss: 0.0263 - acc: 0.9919 - val_loss: 0.9140 - val_acc: 0.8463\n",
            "Epoch 126/200\n",
            "66/66 [==============================] - 7s 106ms/step - loss: 0.0435 - acc: 0.9844 - val_loss: 0.9110 - val_acc: 0.8520\n",
            "Epoch 127/200\n",
            "66/66 [==============================] - 7s 106ms/step - loss: 0.0432 - acc: 0.9848 - val_loss: 1.9306 - val_acc: 0.7173\n",
            "Epoch 128/200\n",
            "66/66 [==============================] - 7s 107ms/step - loss: 0.0430 - acc: 0.9844 - val_loss: 1.4413 - val_acc: 0.8178\n",
            "Epoch 129/200\n",
            "66/66 [==============================] - 7s 107ms/step - loss: 0.0540 - acc: 0.9825 - val_loss: 0.8718 - val_acc: 0.8330\n",
            "Epoch 130/200\n",
            "66/66 [==============================] - 7s 106ms/step - loss: 0.0565 - acc: 0.9791 - val_loss: 0.7298 - val_acc: 0.8539\n",
            "Epoch 131/200\n",
            "66/66 [==============================] - 7s 106ms/step - loss: 0.0406 - acc: 0.9839 - val_loss: 0.9718 - val_acc: 0.8349\n",
            "Epoch 132/200\n",
            "66/66 [==============================] - 7s 107ms/step - loss: 0.0413 - acc: 0.9848 - val_loss: 0.8669 - val_acc: 0.8368\n",
            "Epoch 133/200\n",
            "66/66 [==============================] - 7s 106ms/step - loss: 0.0158 - acc: 0.9957 - val_loss: 0.7353 - val_acc: 0.8596\n",
            "Epoch 134/200\n",
            "66/66 [==============================] - 7s 107ms/step - loss: 0.0220 - acc: 0.9938 - val_loss: 0.8733 - val_acc: 0.8425\n",
            "Epoch 135/200\n",
            "66/66 [==============================] - 7s 107ms/step - loss: 0.0258 - acc: 0.9896 - val_loss: 0.8042 - val_acc: 0.8425\n",
            "Epoch 136/200\n",
            "66/66 [==============================] - 7s 107ms/step - loss: 0.0618 - acc: 0.9801 - val_loss: 3.9367 - val_acc: 0.8083\n",
            "Epoch 137/200\n",
            "66/66 [==============================] - 7s 106ms/step - loss: 0.0600 - acc: 0.9801 - val_loss: 2.9423 - val_acc: 0.8368\n",
            "Epoch 138/200\n",
            "66/66 [==============================] - 7s 106ms/step - loss: 0.1748 - acc: 0.9616 - val_loss: 2.1701 - val_acc: 0.7476\n",
            "Epoch 139/200\n",
            "66/66 [==============================] - 7s 107ms/step - loss: 0.4038 - acc: 0.9313 - val_loss: 0.8946 - val_acc: 0.8292\n",
            "Epoch 140/200\n",
            "66/66 [==============================] - 7s 107ms/step - loss: 0.1637 - acc: 0.9450 - val_loss: 31.4452 - val_acc: 0.6015\n",
            "Epoch 141/200\n",
            "66/66 [==============================] - 7s 106ms/step - loss: 0.0536 - acc: 0.9820 - val_loss: 5.0711 - val_acc: 0.7249\n",
            "Epoch 142/200\n",
            "66/66 [==============================] - 7s 106ms/step - loss: 0.0489 - acc: 0.9820 - val_loss: 1.1716 - val_acc: 0.8046\n",
            "Epoch 143/200\n",
            "66/66 [==============================] - 7s 106ms/step - loss: 0.0554 - acc: 0.9796 - val_loss: 0.7544 - val_acc: 0.8330\n",
            "Epoch 144/200\n",
            "66/66 [==============================] - 7s 106ms/step - loss: 0.0308 - acc: 0.9886 - val_loss: 0.7941 - val_acc: 0.8634\n",
            "Epoch 145/200\n",
            "66/66 [==============================] - 7s 106ms/step - loss: 0.0271 - acc: 0.9910 - val_loss: 0.9299 - val_acc: 0.8539\n",
            "Epoch 146/200\n",
            "66/66 [==============================] - 7s 105ms/step - loss: 0.0220 - acc: 0.9929 - val_loss: 0.8738 - val_acc: 0.8710\n",
            "Epoch 147/200\n",
            "66/66 [==============================] - 7s 105ms/step - loss: 0.0145 - acc: 0.9938 - val_loss: 0.7633 - val_acc: 0.8634\n",
            "Epoch 148/200\n",
            "66/66 [==============================] - 7s 106ms/step - loss: 0.0234 - acc: 0.9915 - val_loss: 0.8373 - val_acc: 0.8406\n",
            "Epoch 149/200\n",
            "66/66 [==============================] - 7s 106ms/step - loss: 0.0250 - acc: 0.9905 - val_loss: 0.9236 - val_acc: 0.8691\n",
            "Epoch 150/200\n",
            "66/66 [==============================] - 7s 107ms/step - loss: 0.0740 - acc: 0.9749 - val_loss: 0.9670 - val_acc: 0.8065\n",
            "Epoch 151/200\n",
            "66/66 [==============================] - 7s 105ms/step - loss: 0.0274 - acc: 0.9886 - val_loss: 0.8007 - val_acc: 0.8558\n",
            "Epoch 152/200\n",
            "66/66 [==============================] - 7s 105ms/step - loss: 0.0276 - acc: 0.9886 - val_loss: 0.7939 - val_acc: 0.8786\n",
            "Epoch 153/200\n",
            "66/66 [==============================] - 7s 106ms/step - loss: 0.0101 - acc: 0.9972 - val_loss: 0.7151 - val_acc: 0.8767\n",
            "Epoch 154/200\n",
            "66/66 [==============================] - 7s 107ms/step - loss: 0.0215 - acc: 0.9915 - val_loss: 0.7925 - val_acc: 0.8615\n",
            "Epoch 155/200\n",
            "66/66 [==============================] - 7s 106ms/step - loss: 0.0196 - acc: 0.9919 - val_loss: 0.9156 - val_acc: 0.8501\n",
            "Epoch 156/200\n",
            "66/66 [==============================] - 7s 106ms/step - loss: 0.0503 - acc: 0.9839 - val_loss: 1.0306 - val_acc: 0.8387\n",
            "Epoch 157/200\n",
            "66/66 [==============================] - 7s 106ms/step - loss: 0.0487 - acc: 0.9815 - val_loss: 1.1362 - val_acc: 0.8292\n",
            "Epoch 158/200\n",
            "66/66 [==============================] - 7s 106ms/step - loss: 0.0443 - acc: 0.9815 - val_loss: 1.1973 - val_acc: 0.8159\n",
            "Epoch 159/200\n",
            "66/66 [==============================] - 7s 106ms/step - loss: 0.0438 - acc: 0.9863 - val_loss: 1.0836 - val_acc: 0.8501\n",
            "Epoch 160/200\n",
            "66/66 [==============================] - 7s 106ms/step - loss: 0.0646 - acc: 0.9815 - val_loss: 1.6278 - val_acc: 0.8368\n",
            "Epoch 161/200\n",
            "66/66 [==============================] - 7s 106ms/step - loss: 0.0398 - acc: 0.9853 - val_loss: 0.9232 - val_acc: 0.8539\n",
            "Epoch 162/200\n",
            "66/66 [==============================] - 7s 105ms/step - loss: 0.0122 - acc: 0.9962 - val_loss: 0.8704 - val_acc: 0.8501\n",
            "Epoch 163/200\n",
            "66/66 [==============================] - 7s 105ms/step - loss: 0.0200 - acc: 0.9924 - val_loss: 0.8620 - val_acc: 0.8805\n",
            "Epoch 164/200\n",
            "66/66 [==============================] - 7s 107ms/step - loss: 0.0134 - acc: 0.9953 - val_loss: 2.6454 - val_acc: 0.6983\n",
            "Epoch 165/200\n",
            "66/66 [==============================] - 7s 106ms/step - loss: 0.0089 - acc: 0.9981 - val_loss: 1.0164 - val_acc: 0.8406\n",
            "Epoch 166/200\n",
            "66/66 [==============================] - 7s 106ms/step - loss: 0.0102 - acc: 0.9972 - val_loss: 1.0923 - val_acc: 0.8444\n",
            "Epoch 167/200\n",
            "66/66 [==============================] - 7s 107ms/step - loss: 0.0106 - acc: 0.9957 - val_loss: 1.4835 - val_acc: 0.7989\n",
            "Epoch 168/200\n",
            "66/66 [==============================] - 7s 106ms/step - loss: 0.0219 - acc: 0.9938 - val_loss: 1.1519 - val_acc: 0.8197\n",
            "Epoch 169/200\n",
            "66/66 [==============================] - 7s 106ms/step - loss: 0.0312 - acc: 0.9900 - val_loss: 1.4974 - val_acc: 0.8520\n",
            "Epoch 170/200\n",
            "66/66 [==============================] - 7s 106ms/step - loss: 0.0478 - acc: 0.9848 - val_loss: 1.5287 - val_acc: 0.8102\n",
            "Epoch 171/200\n",
            "66/66 [==============================] - 7s 106ms/step - loss: 0.0214 - acc: 0.9919 - val_loss: 0.8236 - val_acc: 0.8729\n",
            "Epoch 172/200\n",
            "66/66 [==============================] - 7s 106ms/step - loss: 0.0321 - acc: 0.9905 - val_loss: 1.3727 - val_acc: 0.8140\n",
            "Epoch 173/200\n",
            "66/66 [==============================] - 7s 106ms/step - loss: 0.0761 - acc: 0.9744 - val_loss: 0.9938 - val_acc: 0.8463\n",
            "Epoch 174/200\n",
            "66/66 [==============================] - 7s 106ms/step - loss: 0.0238 - acc: 0.9910 - val_loss: 0.8700 - val_acc: 0.8501\n",
            "Epoch 175/200\n",
            "66/66 [==============================] - 7s 106ms/step - loss: 0.0132 - acc: 0.9938 - val_loss: 0.9009 - val_acc: 0.8368\n",
            "Epoch 176/200\n",
            "66/66 [==============================] - 7s 105ms/step - loss: 0.0252 - acc: 0.9915 - val_loss: 1.0692 - val_acc: 0.8482\n",
            "Epoch 177/200\n",
            "66/66 [==============================] - 7s 107ms/step - loss: 0.0614 - acc: 0.9815 - val_loss: 2.5205 - val_acc: 0.8008\n",
            "Epoch 178/200\n",
            "66/66 [==============================] - 7s 107ms/step - loss: 0.0408 - acc: 0.9844 - val_loss: 0.8202 - val_acc: 0.8615\n",
            "Epoch 179/200\n",
            "66/66 [==============================] - 7s 106ms/step - loss: 0.0310 - acc: 0.9905 - val_loss: 0.9645 - val_acc: 0.8577\n",
            "Epoch 180/200\n",
            "66/66 [==============================] - 7s 106ms/step - loss: 0.0558 - acc: 0.9839 - val_loss: 1.0051 - val_acc: 0.8615\n",
            "Epoch 181/200\n",
            "66/66 [==============================] - 7s 105ms/step - loss: 0.0410 - acc: 0.9853 - val_loss: 1.2150 - val_acc: 0.7913\n",
            "Epoch 182/200\n",
            "66/66 [==============================] - 7s 106ms/step - loss: 0.0604 - acc: 0.9848 - val_loss: 1.3421 - val_acc: 0.8406\n",
            "Epoch 183/200\n",
            "66/66 [==============================] - 7s 106ms/step - loss: 0.0492 - acc: 0.9872 - val_loss: 0.8517 - val_acc: 0.8672\n",
            "Epoch 184/200\n",
            "66/66 [==============================] - 7s 106ms/step - loss: 0.0247 - acc: 0.9948 - val_loss: 0.8630 - val_acc: 0.8577\n",
            "Epoch 185/200\n",
            "66/66 [==============================] - 7s 107ms/step - loss: 0.0151 - acc: 0.9938 - val_loss: 0.7718 - val_acc: 0.8691\n",
            "Epoch 186/200\n",
            "66/66 [==============================] - 7s 106ms/step - loss: 0.1459 - acc: 0.9787 - val_loss: 3.5523 - val_acc: 0.6300\n",
            "Epoch 187/200\n",
            "66/66 [==============================] - 7s 106ms/step - loss: 0.1788 - acc: 0.9550 - val_loss: 1.6282 - val_acc: 0.7666\n",
            "Epoch 188/200\n",
            "66/66 [==============================] - 7s 106ms/step - loss: 0.0488 - acc: 0.9815 - val_loss: 1.8110 - val_acc: 0.7514\n",
            "Epoch 189/200\n",
            "66/66 [==============================] - 7s 106ms/step - loss: 0.0212 - acc: 0.9943 - val_loss: 1.0656 - val_acc: 0.8159\n",
            "Epoch 190/200\n",
            "66/66 [==============================] - 7s 107ms/step - loss: 0.0180 - acc: 0.9929 - val_loss: 0.9115 - val_acc: 0.8444\n",
            "Epoch 191/200\n",
            "66/66 [==============================] - 7s 106ms/step - loss: 0.0400 - acc: 0.9915 - val_loss: 0.8526 - val_acc: 0.8292\n",
            "Epoch 192/200\n",
            "66/66 [==============================] - 7s 106ms/step - loss: 0.0241 - acc: 0.9900 - val_loss: 1.5185 - val_acc: 0.7894\n",
            "Epoch 193/200\n",
            "66/66 [==============================] - 7s 106ms/step - loss: 0.0211 - acc: 0.9934 - val_loss: 1.1403 - val_acc: 0.8387\n",
            "Epoch 194/200\n",
            "66/66 [==============================] - 7s 106ms/step - loss: 0.0159 - acc: 0.9948 - val_loss: 0.9798 - val_acc: 0.8653\n",
            "Epoch 195/200\n",
            "66/66 [==============================] - 7s 106ms/step - loss: 0.0092 - acc: 0.9962 - val_loss: 1.0317 - val_acc: 0.8577\n",
            "Epoch 196/200\n",
            "66/66 [==============================] - 7s 106ms/step - loss: 0.0162 - acc: 0.9948 - val_loss: 0.8608 - val_acc: 0.8748\n",
            "Epoch 197/200\n",
            "66/66 [==============================] - 7s 106ms/step - loss: 0.0124 - acc: 0.9957 - val_loss: 1.0388 - val_acc: 0.8843\n",
            "Epoch 198/200\n",
            "66/66 [==============================] - 7s 107ms/step - loss: 0.0210 - acc: 0.9953 - val_loss: 1.0063 - val_acc: 0.8729\n",
            "Epoch 199/200\n",
            "66/66 [==============================] - 7s 105ms/step - loss: 0.0421 - acc: 0.9858 - val_loss: 1.4208 - val_acc: 0.8520\n",
            "Epoch 200/200\n",
            "66/66 [==============================] - 7s 106ms/step - loss: 0.0447 - acc: 0.9839 - val_loss: 0.6895 - val_acc: 0.8672\n"
          ]
        }
      ]
    },
    {
      "cell_type": "code",
      "metadata": {
        "colab": {
          "base_uri": "https://localhost:8080/"
        },
        "id": "CJ2q_PLg09ZQ",
        "outputId": "76bbb64e-020b-4e05-cf50-1bf08cae3fa1"
      },
      "source": [
        "model.save(\"/content/drive/MyDrive/MalignantVsBenign/model1\")"
      ],
      "execution_count": null,
      "outputs": [
        {
          "output_type": "stream",
          "name": "stdout",
          "text": [
            "INFO:tensorflow:Assets written to: /content/drive/MyDrive/MalignantVsBenign/model1/assets\n"
          ]
        }
      ]
    },
    {
      "cell_type": "code",
      "metadata": {
        "id": "fVJVjC_H0-PI"
      },
      "source": [
        "new_model = tf.keras.models.load_model('/content/drive/MyDrive/MalignantVsBenign/model_AlexNet_200Epoch_87Accuracy')"
      ],
      "execution_count": null,
      "outputs": []
    },
    {
      "cell_type": "code",
      "metadata": {
        "colab": {
          "base_uri": "https://localhost:8080/"
        },
        "id": "knxQn3edd2zY",
        "outputId": "7f525a78-5dfd-4334-c432-87879ef87f6e"
      },
      "source": [
        "TESTING_DATA_DIR = str(data_root+\"test\")\n",
        "testing_ds = tf.keras.utils.image_dataset_from_directory(\n",
        "  TESTING_DATA_DIR,\n",
        "  subset=None,\n",
        "  shuffle=True,\n",
        "  image_size=IMAGE_SHAPE,\n",
        "  batch_size=batch_size)"
      ],
      "execution_count": null,
      "outputs": [
        {
          "output_type": "stream",
          "name": "stdout",
          "text": [
            "Found 660 files belonging to 2 classes.\n"
          ]
        }
      ]
    },
    {
      "cell_type": "code",
      "metadata": {
        "colab": {
          "base_uri": "https://localhost:8080/"
        },
        "id": "p1yyhjLm1BoK",
        "outputId": "a1cba663-c913-466e-b50c-ac58514ee9b8"
      },
      "source": [
        "final_loss, final_accuracy = new_model.evaluate(testing_ds)\n",
        "print(\"Final loss: {:.2f}\".format(final_loss))\n",
        "print(\"Final accuracy: {:.2f}%\".format(final_accuracy * 100))"
      ],
      "execution_count": null,
      "outputs": [
        {
          "output_type": "stream",
          "name": "stdout",
          "text": [
            "21/21 [==============================] - 86s 2s/step - loss: 1.2197 - acc: 0.8727\n",
            "Final loss: 1.22\n",
            "Final accuracy: 87.27%\n"
          ]
        }
      ]
    }
  ]
}